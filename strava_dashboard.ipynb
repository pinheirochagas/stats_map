{
 "cells": [
  {
   "cell_type": "code",
   "execution_count": 1,
   "metadata": {},
   "outputs": [],
   "source": [
    "import ipywidgets as widgets\n",
    "from IPython.display import display\n",
    "from stravalib.client import Client\n",
    "from datetime import datetime\n",
    "from stravalib.exc import AccessUnauthorized\n",
    "import matplotlib.pyplot as plt\n",
    "import folium\n",
    "import branca\n",
    "import numpy as np\n",
    "import ipywidgets as widgets\n",
    "from IPython.display import display, HTML\n",
    "import warnings\n",
    "warnings.simplefilter(action='ignore', category=Warning)\n",
    "import logging\n",
    "# Set logging level to suppress informational messages from stravalib\n",
    "logging.getLogger('stravalib').setLevel(logging.ERROR)\n",
    "import sys\n",
    "import io\n",
    "import re\n"
   ]
  },
  {
   "cell_type": "markdown",
   "metadata": {},
   "source": [
    "# Staps Maps\n",
    "\n",
    "Stats Maps allows you to visualize your Strava activities on a map, with the route colored by different metrics such as pace, altitude, cadence and more."
   ]
  },
  {
   "cell_type": "code",
   "execution_count": 6,
   "metadata": {},
   "outputs": [
    {
     "data": {
      "text/html": [
       "<a href=\"https://www.strava.com/oauth/authorize?client_id=99300&response_type=code&redirect_uri=http://localhost/callback&scope=activity:read\" target=\"_blank\">Click on the link to authorize on Strava</a>"
      ],
      "text/plain": [
       "<IPython.core.display.HTML object>"
      ]
     },
     "metadata": {},
     "output_type": "display_data"
    }
   ],
   "source": [
    "# Step 1: Direct the athlete to Strava's authorization page\n",
    "CLIENT_ID = \"99300\"\n",
    "CLIENT_SECRET = \"3807d10d20fc27ccaf92f90bd7f51ec4c7d077cf\"\n",
    "REDIRECT_URI = \"http://localhost/callback\"  # This is a dummy URI\n",
    "SCOPES = \"activity:read\"\n",
    "\n",
    "oauth_url = f\"https://www.strava.com/oauth/authorize?client_id={CLIENT_ID}&response_type=code&redirect_uri={REDIRECT_URI}&scope={SCOPES}\"\n",
    "\n",
    "# Create the HTML link\n",
    "link_html = f'<a href=\"{oauth_url}\" target=\"_blank\">Click on the link to authorize on Strava</a>'\n",
    "\n",
    "# Display the link\n",
    "display(HTML(link_html))\n"
   ]
  },
  {
   "cell_type": "code",
   "execution_count": 7,
   "metadata": {},
   "outputs": [
    {
     "data": {
      "application/vnd.jupyter.widget-view+json": {
       "model_id": "3a9011162c2d446b9657820e8f159a52",
       "version_major": 2,
       "version_minor": 0
      },
      "text/plain": [
       "Text(value='', description='URL:', placeholder='Enter the full callback URL from Strava')"
      ]
     },
     "metadata": {},
     "output_type": "display_data"
    },
    {
     "data": {
      "application/vnd.jupyter.widget-view+json": {
       "model_id": "82da309ca4f546a6adff1a9f5704ae73",
       "version_major": 2,
       "version_minor": 0
      },
      "text/plain": [
       "DatePicker(value=None, description='Start Date', step=1)"
      ]
     },
     "metadata": {},
     "output_type": "display_data"
    },
    {
     "data": {
      "application/vnd.jupyter.widget-view+json": {
       "model_id": "f60fa284564c42df87eefa6178a29e18",
       "version_major": 2,
       "version_minor": 0
      },
      "text/plain": [
       "DatePicker(value=None, description='End Date', step=1)"
      ]
     },
     "metadata": {},
     "output_type": "display_data"
    }
   ],
   "source": [
    "# Step 2: Provide a text widget for the athlete to paste the full URL from Strava\n",
    "code_input = widgets.Text(\n",
    "    value='',\n",
    "    placeholder='Enter the full callback URL from Strava',\n",
    "    description='URL:',\n",
    ")\n",
    "display(code_input)\n",
    "\n",
    "# Define a function to observe changes to code_input's value\n",
    "def on_code_input_change(change):\n",
    "    # Extract the code from the provided URL if a full URL is detected\n",
    "    url = change['new']\n",
    "    match = re.search(r'code=([\\w\\d]+)', url)\n",
    "    if match:\n",
    "        code = match.group(1)\n",
    "        code_input.value = code  # Update the widget's value immediately\n",
    "\n",
    "# Attach the observer to the code_input widget\n",
    "code_input.observe(on_code_input_change, names='value')\n",
    "\n",
    "# Date range input\n",
    "start_date_picker = widgets.DatePicker(\n",
    "    description='Start Date',\n",
    "    disabled=False\n",
    ")\n",
    "end_date_picker = widgets.DatePicker(\n",
    "    description='End Date',\n",
    "    disabled=False\n",
    ")\n",
    "display(start_date_picker, end_date_picker)\n"
   ]
  },
  {
   "cell_type": "code",
   "execution_count": 8,
   "metadata": {},
   "outputs": [],
   "source": [
    "class Stream:\n",
    "    def __init__(self, data):\n",
    "        self.data = data\n",
    "\n",
    "def refresh_access_token(refresh_token):\n",
    "    code = code_input.value\n",
    "    client = Client()\n",
    "    refresh_response = client.refresh_access_token(client_id=CLIENT_ID, client_secret=CLIENT_SECRET, refresh_token=refresh_token)\n",
    "    new_access_token = refresh_response['access_token']\n",
    "    new_refresh_token = refresh_response['refresh_token']\n",
    "    return new_access_token, new_refresh_token\n",
    "\n",
    "def fetch_streams(client, activity_id):\n",
    "    desired_streams = [\n",
    "        'time', 'distance', 'latlng', 'altitude', 'velocity_smooth', \n",
    "        'heartrate', 'cadence', 'watts', 'temp', 'moving', 'grade_smooth'\n",
    "    ]\n",
    "    streams = client.get_activity_streams(activity_id, types=desired_streams, resolution='high')\n",
    "    if 'velocity_smooth' in streams:\n",
    "        pace_min_per_km = [(1000 / speed) / 60 if speed else 0 for speed in streams['velocity_smooth'].data]\n",
    "        streams['pace_min_per_km'] = Stream(pace_min_per_km)\n",
    "    return streams"
   ]
  },
  {
   "cell_type": "code",
   "execution_count": 9,
   "metadata": {},
   "outputs": [
    {
     "data": {
      "application/vnd.jupyter.widget-view+json": {
       "model_id": "67cdc582ed04404ab653e7ef048b8ce1",
       "version_major": 2,
       "version_minor": 0
      },
      "text/plain": [
       "Button(description='Fetch Activities', style=ButtonStyle())"
      ]
     },
     "metadata": {},
     "output_type": "display_data"
    },
    {
     "data": {
      "application/vnd.jupyter.widget-view+json": {
       "model_id": "f5529794a33e41aab268929f740b2b25",
       "version_major": 2,
       "version_minor": 0
      },
      "text/plain": [
       "Output()"
      ]
     },
     "metadata": {},
     "output_type": "display_data"
    }
   ],
   "source": [
    "activity_dropdown = widgets.Dropdown(\n",
    "    options=[('Select an activity', None)],\n",
    "    description='Activity:',\n",
    "    disabled=False,\n",
    "    value=None\n",
    ")\n",
    "\n",
    "metric_dropdown = widgets.Dropdown(\n",
    "    options=[],\n",
    "    description='Metric:',\n",
    "    disabled=True,\n",
    ")\n",
    "\n",
    "# List to store fetched activities\n",
    "fetched_activities = []\n",
    "\n",
    "# Create an output widget to capture and display function outputs\n",
    "output = widgets.Output()\n",
    "\n",
    "def fetch_activities_and_streams(button):\n",
    "    global fetched_activities\n",
    "    with output:\n",
    "        code = code_input.value\n",
    "        client = Client()\n",
    "        try:\n",
    "            access_token_response = client.exchange_code_for_token(client_id=CLIENT_ID, client_secret=CLIENT_SECRET, code=code)\n",
    "            client.access_token = access_token_response['access_token']\n",
    "        except AccessUnauthorized:\n",
    "            new_access_token, _ = refresh_access_token(refresh_token)\n",
    "            client.access_token = new_access_token\n",
    "\n",
    "        start_date = start_date_picker.value\n",
    "        end_date = end_date_picker.value\n",
    "        if start_date:\n",
    "            start_date = datetime.combine(start_date, datetime.min.time())\n",
    "        if end_date:\n",
    "            end_date = datetime.combine(end_date, datetime.min.time())\n",
    "        \n",
    "        if start_date and end_date:\n",
    "            activity_summaries = list(client.get_activities(before=end_date, after=start_date))\n",
    "        else:\n",
    "            activity_summaries = list(client.get_activities())\n",
    "\n",
    "        fetched_activities.clear()\n",
    "        for summary in activity_summaries:\n",
    "            detailed_activity = client.get_activity(summary.id)\n",
    "            streams = fetch_streams(client, detailed_activity.id)\n",
    "            detailed_activity.streams = streams\n",
    "            fetched_activities.append(detailed_activity)\n",
    "\n",
    "        activity_dropdown.options = [('Select an activity', None)] + [(activity.name, activity) for activity in fetched_activities]\n",
    "        \n",
    "        # Print the titles of fetched activities\n",
    "        print(\"Fetched Activities:\")\n",
    "        for activity in fetched_activities:\n",
    "            print(f\"  - {activity.name}\")\n",
    "\n",
    "# Display the fetch button and the output widget\n",
    "fetch_button = widgets.Button(description=\"Fetch Activities\")\n",
    "fetch_button.on_click(fetch_activities_and_streams)\n",
    "display(fetch_button, output)"
   ]
  },
  {
   "cell_type": "code",
   "execution_count": 21,
   "metadata": {},
   "outputs": [
    {
     "data": {
      "application/vnd.jupyter.widget-view+json": {
       "model_id": "25ae052d790a450480ec297743d1df20",
       "version_major": 2,
       "version_minor": 0
      },
      "text/plain": [
       "Dropdown(description='Activity:', index=1, options=(('Select an activity', None), ('Whatup', <Activity id=9907…"
      ]
     },
     "metadata": {},
     "output_type": "display_data"
    },
    {
     "data": {
      "application/vnd.jupyter.widget-view+json": {
       "model_id": "58529d9d469348f1bc1648137e660d8a",
       "version_major": 2,
       "version_minor": 0
      },
      "text/plain": [
       "Dropdown(description='Metric:', index=6, options=('temp', 'watts', 'moving', 'latlng', 'velocity_smooth', 'gra…"
      ]
     },
     "metadata": {},
     "output_type": "display_data"
    },
    {
     "data": {
      "application/vnd.jupyter.widget-view+json": {
       "model_id": "6c6fc11aeab3480c82376a7e87678bed",
       "version_major": 2,
       "version_minor": 0
      },
      "text/plain": [
       "Button(description='Plot on Map', style=ButtonStyle())"
      ]
     },
     "metadata": {},
     "output_type": "display_data"
    },
    {
     "data": {
      "application/vnd.jupyter.widget-view+json": {
       "model_id": "29d7cfcdf5694b42b639fddc6546a958",
       "version_major": 2,
       "version_minor": 0
      },
      "text/plain": [
       "Label(value='Line width is proportional to elevation (thin at low elevation, thick at high elevation)')"
      ]
     },
     "metadata": {},
     "output_type": "display_data"
    },
    {
     "data": {
      "application/vnd.jupyter.widget-view+json": {
       "model_id": "6a94b04df9074784a1768417aaeab535",
       "version_major": 2,
       "version_minor": 0
      },
      "text/plain": [
       "Output()"
      ]
     },
     "metadata": {},
     "output_type": "display_data"
    }
   ],
   "source": [
    "def update_metric_dropdown(change):\n",
    "    if change['new']:\n",
    "        activity = change['new']\n",
    "        available_metrics = list(activity.streams.keys())\n",
    "        metric_dropdown.options = available_metrics\n",
    "        metric_dropdown.disabled = False\n",
    "    else:\n",
    "        metric_dropdown.options = []\n",
    "        metric_dropdown.disabled = True\n",
    "\n",
    "activity_dropdown.observe(update_metric_dropdown, names='value')\n",
    "\n",
    "# Create an output widget to capture and display the map\n",
    "map_output = widgets.Output()\n",
    "\n",
    "def plot_on_map(button):\n",
    "    with map_output:\n",
    "        map_output.clear_output(wait=True)\n",
    "        activity = activity_dropdown.value\n",
    "        metric = metric_dropdown.value\n",
    "\n",
    "        if not activity or not metric:\n",
    "            print(\"Please select both an activity and a metric.\")\n",
    "            return\n",
    "\n",
    "        latlng = activity.streams['latlng'].data\n",
    "        latitudes = [coord[0] for coord in latlng]\n",
    "        longitudes = [coord[1] for coord in latlng]\n",
    "        metric_values = activity.streams[metric].data\n",
    "        \n",
    "        # Assuming you have an 'elevation' stream for elevation data\n",
    "        elevation = activity.streams['altitude'].data\n",
    "        \n",
    "        # Normalize elevation for line width\n",
    "        normalized_elevation = (elevation - np.min(elevation)) / (np.max(elevation) - np.min(elevation))\n",
    "        line_widths = np.interp(normalized_elevation, [0, 1], [2, 10])  # Change [2, 10] to adjust min and max widths\n",
    "        \n",
    "        non_zero_values = [val for val in metric_values if val > 0]\n",
    "        tenth_percentile = np.percentile(non_zero_values, 10)\n",
    "        ninetieth_percentile = np.percentile(non_zero_values, 90)\n",
    "        colormap = branca.colormap.linear._colormaps['RdPu_09'].scale(tenth_percentile, ninetieth_percentile)\n",
    "        \n",
    "        m = folium.Map(location=[latitudes[0], longitudes[0]],  tiles='Stamen Terrain', zoom_start=13)\n",
    "        colormap.caption = f'{metric.capitalize()}'\n",
    "        m.add_child(colormap)\n",
    "        \n",
    "        for i in range(1, len(latitudes)):\n",
    "            folium.PolyLine([(latitudes[i-1], longitudes[i-1]), (latitudes[i], longitudes[i])], \n",
    "                            color=colormap(metric_values[i]), \n",
    "                            weight=line_widths[i]).add_to(m)\n",
    "        \n",
    "        display(m)\n",
    "\n",
    "plot_button = widgets.Button(description=\"Plot on Map\") \n",
    "description_label = widgets.Label(value=\"Line width is proportional to elevation (thin at low elevation, thick at high elevation)\")\n",
    "plot_button.on_click(plot_on_map)\n",
    "\n",
    "display(activity_dropdown, metric_dropdown, plot_button, description_label, map_output)"
   ]
  },
  {
   "cell_type": "markdown",
   "metadata": {},
   "source": [
    "## Instructions\n",
    "\n",
    "1. **Strava Authorization**:\n",
    "   - Click on the provided link to authorize this tool to access your Strava activities.\n",
    "   - After authorizing, you'll be redirected to a callback URL. Copy the entire URL.\n",
    "   - Paste the copied URL into the 'URL' input box in this tool.\n",
    "   \n",
    "   &nbsp;\n",
    "2. **Fetch Activities**:\n",
    "   - Choose a date range to filter the activities you want to fetch.\n",
    "   - Click the 'Fetch Activities' button.\n",
    "   \n",
    "   &nbsp;\n",
    "3. **Select Activity and Metric**:\n",
    "   - Once the activities are fetched, select an activity from the dropdown menu.\n",
    "   - Next, choose a metric that you want to use for coloring the route on the map. This metric will be used to show variations along your route. For example, if you choose 'cadence', areas of your route with higher cadence will be colored differently from areas with lower cadence.\n",
    "\n",
    "   &nbsp;\n",
    "\n",
    "4. **Visualize**:\n",
    "   - After selecting both an activity and a metric, click the 'Plot on Map' button.\n",
    "   - You'll see a map with your activity's route. The route's color varies based on the metric you selected.\n",
    "\n",
    "   &nbsp;\n",
    "\n",
    "Feel free to explore different activities and metrics. If you have any questions or feedback, please reach out!\n"
   ]
  }
 ],
 "metadata": {
  "kernelspec": {
   "display_name": "Python 3 (ipykernel)",
   "language": "python",
   "name": "python3"
  },
  "language_info": {
   "codemirror_mode": {
    "name": "ipython",
    "version": 3
   },
   "file_extension": ".py",
   "mimetype": "text/x-python",
   "name": "python",
   "nbconvert_exporter": "python",
   "pygments_lexer": "ipython3",
   "version": "3.9.12"
  }
 },
 "nbformat": 4,
 "nbformat_minor": 2
}
